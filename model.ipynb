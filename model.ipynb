{
  "cells": [
    {
      "cell_type": "markdown",
      "metadata": {
        "id": "view-in-github",
        "colab_type": "text"
      },
      "source": [
        "<a href=\"https://colab.research.google.com/github/matheusgpantoja/LPO/blob/main/model.ipynb\" target=\"_parent\"><img src=\"https://colab.research.google.com/assets/colab-badge.svg\" alt=\"Open In Colab\"/></a>"
      ]
    },
    {
      "cell_type": "code",
      "source": [
        "!pip install pyomo"
      ],
      "metadata": {
        "colab": {
          "base_uri": "https://localhost:8080/"
        },
        "id": "QgkMvQ8LGxd7",
        "outputId": "2ccb8bf5-620a-4eaf-8896-f89624b0d8c3"
      },
      "execution_count": null,
      "outputs": [
        {
          "output_type": "stream",
          "name": "stdout",
          "text": [
            "Collecting pyomo\n",
            "  Downloading Pyomo-6.6.1-cp310-cp310-manylinux_2_17_x86_64.manylinux2014_x86_64.whl (11.9 MB)\n",
            "\u001b[2K     \u001b[90m━━━━━━━━━━━━━━━━━━━━━━━━━━━━━━━━━━━━━━━━\u001b[0m \u001b[32m11.9/11.9 MB\u001b[0m \u001b[31m82.4 MB/s\u001b[0m eta \u001b[36m0:00:00\u001b[0m\n",
            "\u001b[?25hCollecting ply (from pyomo)\n",
            "  Downloading ply-3.11-py2.py3-none-any.whl (49 kB)\n",
            "\u001b[2K     \u001b[90m━━━━━━━━━━━━━━━━━━━━━━━━━━━━━━━━━━━━━━━━\u001b[0m \u001b[32m49.6/49.6 kB\u001b[0m \u001b[31m5.3 MB/s\u001b[0m eta \u001b[36m0:00:00\u001b[0m\n",
            "\u001b[?25hInstalling collected packages: ply, pyomo\n",
            "Successfully installed ply-3.11 pyomo-6.6.1\n"
          ]
        }
      ]
    },
    {
      "cell_type": "code",
      "execution_count": null,
      "metadata": {
        "id": "OgZi76GnWU1H"
      },
      "outputs": [],
      "source": [
        "# Importing the modules\n",
        "\n",
        "from pyomo.environ import *\n",
        "import pandas as pd"
      ]
    },
    {
      "cell_type": "markdown",
      "metadata": {
        "id": "1YPrZP8sWU1L"
      },
      "source": [
        "#### Parameters\n",
        "\n",
        "<!--\n",
        "\n",
        "-->"
      ]
    },
    {
      "cell_type": "code",
      "execution_count": null,
      "metadata": {
        "id": "N5zu4vflWU1O"
      },
      "outputs": [],
      "source": [
        "# ===========================================\n",
        "#           Topology Information            #\n",
        "# ===========================================\n",
        "\n",
        "total_nodes = 3 # [0, 1, 2, 3]\n",
        "\n",
        "# CPU (Core),\n",
        "\n",
        "total_resources = 1\n",
        "resource_capacity = {'CPU' : 8,}\n",
        "\n",
        "\n",
        "# ===================================\n",
        "#       Functions Information       #\n",
        "# ===================================\n",
        "\n",
        "# (0)NAT (1)FW (2)TM (3)WOC (4)VOC (5)IDS\n",
        "# =======================================\n",
        "total_functions = 5\n",
        "\n",
        "\n",
        "# Set of Functions\n",
        "# id = Function Identifier\n",
        "# cf = Each function require X CPU core\n",
        "# bf = Traffic Processin Capacity (Function) in Mb/s (200Mb/s = 200000Kb/s)\n",
        "\n",
        "#            (id, cf, bf)\n",
        "functions = [(0, 4, 10000),\n",
        "             (1, 4, 10000),\n",
        "             (2, 4, 10000),\n",
        "             (3, 4, 10000),\n",
        "             (4, 4, 10000),\n",
        "             (5, 4, 10000)]\n",
        "\n",
        "\n",
        "# =============================\n",
        "#     Services Information    #\n",
        "# =============================\n",
        "\n",
        "# wb = Web Service, vip = VoIP, vs = Video Streaming, og = Online Game\n",
        "#      ===========        ====       ===============       ===========\n",
        "\n",
        "\n",
        "# [function requested, , Bandwidth (kbps)]\n",
        "\n",
        "services = {'wb' : {    'function' : 1,\n",
        "                        'bandwidth' : 100, },\n",
        "# ----------------------------------------------\n",
        "            'vip' : {   'function' : 0,\n",
        "                        'bandwidth' : 64, },\n",
        "# ----------------------------------------------\n",
        "            'vs' : {    'function' : 4,\n",
        "                        'bandwidth' : 100, },\n",
        "# ----------------------------------------------\n",
        "            'og' : {    'function' : 5,\n",
        "                        'bandwidth' : 50, },\n",
        "# ----------------------------------------------\n",
        "            }\n",
        "\n",
        "\n",
        "# =============================\n",
        "#     Demands Information    #\n",
        "# =============================\n",
        "\n",
        "total_demandas = [200, 350, 500, 650, 800, 1000, 1250]\n",
        "\n"
      ]
    },
    {
      "cell_type": "markdown",
      "source": [
        "#### Funções"
      ],
      "metadata": {
        "id": "DQPswzQVRU_K"
      }
    },
    {
      "cell_type": "code",
      "source": [
        "def load_file(file):\n",
        "    \"\"\"\n",
        "    \"\"\"\n",
        "\n",
        "    with open(file, 'rb') as file:\n",
        "        return pickle.load(file)\n",
        ""
      ],
      "metadata": {
        "id": "DirqwaC-Rhg3"
      },
      "execution_count": null,
      "outputs": []
    },
    {
      "cell_type": "code",
      "source": [
        "def load_file(file):\n",
        "    \"\"\"\n",
        "    \"\"\"\n",
        "\n",
        "    with open(file, 'rb') as file:\n",
        "        return pickle.load(file)\n",
        ""
      ],
      "metadata": {
        "id": "Ab6Xt0ZcRoFQ"
      },
      "execution_count": null,
      "outputs": []
    },
    {
      "cell_type": "code",
      "source": [
        "def alocacao_demandas(model):\n",
        "    \"\"\"\n",
        "    \"\"\"\n",
        "\n",
        "\n",
        "    global total_demands\n",
        "\n",
        "    col1 = []\n",
        "    for d in range(total_demands+1):\n",
        "        col1.append(f\"Demand {d}\")\n",
        "\n",
        "    col2 = []\n",
        "    for s in range(pm.total_nodes+1):\n",
        "        col2.append(f\"Server {s}\")\n",
        "\n",
        "    allocated = pd.DataFrame(columns = col2, index = list(set(col1)))\n",
        "\n",
        "    for d in range(total_demands+1):\n",
        "        for s in range(pm.total_nodes+1):\n",
        "            if (value(model.d[d, s])) == 1:\n",
        "                allocated.loc[f\"Demand {d}\", f\"Server {s}\"] = 1\n",
        "            else:\n",
        "                allocated.loc[f\"Demand {d}\", f\"Server {s}\"] = '.'\n",
        "\n",
        "    #print(\"A demanda X está sendo atendida no Servidor Y\")\n",
        "\n",
        "    return allocated"
      ],
      "metadata": {
        "id": "2X7uD0P-Rrt3"
      },
      "execution_count": null,
      "outputs": []
    },
    {
      "cell_type": "code",
      "source": [
        "def alocacao_funcoes(model):\n",
        "    \"\"\"\n",
        "    \"\"\"\n",
        "\n",
        "\n",
        "    col1 = []\n",
        "    for f in range(pm.total_functions+1):\n",
        "        col1.append(f\"Functions {f}\")\n",
        "\n",
        "    col2 = []\n",
        "    for s in range(pm.total_nodes+1):\n",
        "        col2.append(f\"Server {s}\")\n",
        "\n",
        "    allocated_functions = pd.DataFrame(columns = col2, index = list(set(col1)))\n",
        "    allocated_functions.sort_index(inplace = True)\n",
        "\n",
        "    for f in range(pm.total_functions+1):\n",
        "        for s in range(pm.total_nodes+1):\n",
        "            if (value(model.f[f, s])) == 1:\n",
        "                allocated_functions.loc[f\"Functions {f}\", f\"Server {s}\"] = 1\n",
        "            else:\n",
        "                allocated_functions.loc[f\"Functions {f}\", f\"Server {s}\"] = '.'\n",
        "\n",
        "    #print(\"A Função X está sendo alocada no Servidor Y\")\n",
        "    return allocated_functions"
      ],
      "metadata": {
        "id": "hLeIqmWDRyft"
      },
      "execution_count": null,
      "outputs": []
    },
    {
      "cell_type": "markdown",
      "source": [
        "#### MOdelo Load Distribution"
      ],
      "metadata": {
        "id": "jAZhnCVyR3Jr"
      }
    },
    {
      "cell_type": "code",
      "source": [
        "def alocacao_funcoes(model):\n",
        "    \"\"\"\n",
        "    \"\"\"\n",
        "\n",
        "\n",
        "    col1 = []\n",
        "    for f in range(pm.total_functions+1):\n",
        "        col1.append(f\"Functions {f}\")\n",
        "\n",
        "    col2 = []\n",
        "    for s in range(pm.total_nodes+1):\n",
        "        col2.append(f\"Server {s}\")\n",
        "\n",
        "    allocated_functions = pd.DataFrame(columns = col2, index = list(set(col1)))\n",
        "    allocated_functions.sort_index(inplace = True)\n",
        "\n",
        "    for f in range(pm.total_functions+1):\n",
        "        for s in range(pm.total_nodes+1):\n",
        "            if (value(model.f[f, s])) == 1:\n",
        "                allocated_functions.loc[f\"Functions {f}\", f\"Server {s}\"] = 1\n",
        "            else:\n",
        "                allocated_functions.loc[f\"Functions {f}\", f\"Server {s}\"] = '.'\n",
        "\n",
        "    #print(\"A Função X está sendo alocada no Servidor Y\")\n",
        "    return allocated_functionsdef allocated_demands(model):\n",
        "    \"\"\"\n",
        "    \"\"\"\n",
        "    allocated = sum( model.d[d, i]\n",
        "                for d in model.Demands\n",
        "                for i in model.Nodes\n",
        "            )\n",
        "\n",
        "    economy = sum ( model.f[f, i]\n",
        "                    for f in model.Functions\n",
        "                    for i in model.Nodes\n",
        "                    )\n",
        "\n",
        "    return (allocated) - (0.001 * economy)"
      ],
      "metadata": {
        "id": "FqQFMduYR9mL"
      },
      "execution_count": null,
      "outputs": []
    },
    {
      "cell_type": "code",
      "source": [
        "def constraint_demand_allocated(model, d):\n",
        "    '''\n",
        "    Each demand must be allocated on a maximum of one server.\n",
        "    '''\n",
        "    return sum( model.d[d, s] for s in model.Nodes) <= 1"
      ],
      "metadata": {
        "id": "Uzd7OOqrSJ7p"
      },
      "execution_count": null,
      "outputs": []
    },
    {
      "cell_type": "code",
      "source": [
        "def constraint_demand_functions(model, d, s, f):\n",
        "    '''\n",
        "    A demand can only be allocated to a server that has the function it needs.\n",
        "    '''\n",
        "    function = demands[d]['service']['function']\n",
        "\n",
        "    if function == f:\n",
        "        return model.f[f, s] - model.d[d, s] >= 0\n",
        "    else:\n",
        "        return Constraint.Skip"
      ],
      "metadata": {
        "id": "zslyI8_PSLc7"
      },
      "execution_count": null,
      "outputs": []
    },
    {
      "cell_type": "code",
      "source": [
        "def constraint_server_capacity(model, s):\n",
        "    '''\n",
        "    A server must not exceed its processing/storage caabilities.\n",
        "    '''\n",
        "    return sum(model.f[f, s] * pm.functions[f][1] for f in model.Functions) <= pm.resource_capacity['CPU']\n"
      ],
      "metadata": {
        "id": "zsMBaITvSNUb"
      },
      "execution_count": null,
      "outputs": []
    },
    {
      "cell_type": "code",
      "source": [
        "def constraint_functions_capacity(model, s, f):\n",
        "    '''\n",
        "    A functions must not exceed its processing caabilities.\n",
        "    '''\n",
        "\n",
        "    return sum(model.d[d, s] * demands[d]['service']['bandwidth'] for d in model.Demands if (demands[d]['service']['function'] == f)) \\\n",
        "            <= pm.functions[f][2] * model.f[f, s]"
      ],
      "metadata": {
        "id": "eeSoppDSST9-"
      },
      "execution_count": null,
      "outputs": []
    },
    {
      "cell_type": "code",
      "source": [
        "def model_creation(total_demands):\n",
        "\n",
        "    \"\"\"\n",
        "    \"\"\"\n",
        "\n",
        "    # Creating the Model\n",
        "    model = ConcreteModel()\n",
        "\n",
        "    # Creating the Sets\n",
        "    model.Nodes = RangeSet(0, pm.total_nodes) # Set of Nodes\n",
        "    model.Demands = RangeSet(0, total_demands) # Set of Demands\n",
        "    model.Functions = RangeSet(0, pm.total_functions) # Set od Funcitons\n",
        "\n",
        "    # Creating Variables\n",
        "\n",
        "    # allocation demand\n",
        "    model.d = Var(  model.Demands,\n",
        "                    model.Nodes,\n",
        "                    within = Binary,\n",
        "                    initialize = 0\n",
        "                )\n",
        "\n",
        "    # allocation function\n",
        "    model.f = Var(  model.Functions,\n",
        "                    model.Nodes,\n",
        "                    within = Binary,\n",
        "                    initialize = 0\n",
        "                )\n",
        "\n",
        "\n",
        "    # Objective Function : Maximize the number of demands allocated\n",
        "    model.objective = Objective(    rule = allocated_demands,\n",
        "                                    sense = maximize\n",
        "                                )\n",
        "\n",
        "    # Constraint 01\n",
        "    model.C1 = Constraint(  model.Demands,\n",
        "                            rule = constraint_demand_allocated\n",
        "                        )\n",
        "\n",
        "    # Constraint 02\n",
        "    model.C2 = Constraint(  model.Demands,\n",
        "                            model.Nodes,\n",
        "                            model.Functions,\n",
        "                            rule = constraint_demand_functions\n",
        "                        )\n",
        "\n",
        "    # Constraint 03\n",
        "    model.C3 = Constraint(  model.Nodes,\n",
        "                            rule = constraint_server_capacity\n",
        "                        )\n",
        "\n",
        "    # Constraint 04\n",
        "    model.C4 = Constraint(  model.Nodes,\n",
        "                            model.Functions,\n",
        "                            rule = constraint_functions_capacity\n",
        "                        )\n",
        "\n",
        "    return model"
      ],
      "metadata": {
        "id": "u6WPudyPSVu9"
      },
      "execution_count": null,
      "outputs": []
    },
    {
      "cell_type": "markdown",
      "source": [
        "#### Execução"
      ],
      "metadata": {
        "id": "Zl5ODj7pSYA2"
      }
    },
    {
      "cell_type": "code",
      "source": [
        "for x in pm.total_demandas:\n",
        "    resultados = []\n",
        "\n",
        "    for d in range(100):\n",
        "\n",
        "        file = f\"demandas//{x}_demanda_{d}.pkl\"\n",
        "\n",
        "        # Set of demands\n",
        "        # Demand Identifier, Source, Service, Allocated\n",
        "        demands = load_file(file)\n",
        "        total_demands = len(demands) - 1 # Total de n - 1 demandas\n",
        "\n",
        "        model = model_creation(total_demands)\n",
        "\n",
        "        # Selecting and Creating the Solver\n",
        "        # ----------------------------\n",
        "        solver = SolverFactory('cplex')\n",
        "\n",
        "        # Calling the solver and solving the model\n",
        "        # ----------------------------\n",
        "\n",
        "        results = solver.solve( model,\n",
        "                                #tee = True,\n",
        "                                #keepfiles = True,\n",
        "                            )\n",
        "\n",
        "\n",
        "        fitness = value(model.objective)\n",
        "        print(f\"A função objetivo retornou o valor: {fitness}\")\n",
        "        print(f\"A função objetivo REAL é: {sum(value(model.d[:,:]))}\")\n",
        "\n",
        "        allocated = alocacao_demandas(model)\n",
        "        allocated_functions = alocacao_funcoes(model)\n",
        "        resultados.append([fitness, allocated, allocated_functions])\n",
        "\n",
        "    file = f'D:\\\\Programação - Códigos\\\\Alocação de Requisições - Funções de Rede Virtual\\\\Resultados\\\\pl_{x}'\n",
        "    save_file(resultados, file)"
      ],
      "metadata": {
        "id": "5Q3nWOv8Sax9"
      },
      "execution_count": null,
      "outputs": []
    }
  ],
  "metadata": {
    "kernelspec": {
      "display_name": ".ga-router",
      "language": "python",
      "name": "python3"
    },
    "language_info": {
      "codemirror_mode": {
        "name": "ipython",
        "version": 3
      },
      "file_extension": ".py",
      "mimetype": "text/x-python",
      "name": "python",
      "nbconvert_exporter": "python",
      "pygments_lexer": "ipython3",
      "version": "3.10.11"
    },
    "orig_nbformat": 4,
    "vscode": {
      "interpreter": {
        "hash": "6ea73f2fcc6a6597cc6376316192229ccec0a6cae78940cb865233cc605f1a00"
      }
    },
    "colab": {
      "provenance": [],
      "include_colab_link": true
    }
  },
  "nbformat": 4,
  "nbformat_minor": 0
}