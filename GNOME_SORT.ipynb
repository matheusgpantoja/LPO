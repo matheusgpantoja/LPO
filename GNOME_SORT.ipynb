{
  "nbformat": 4,
  "nbformat_minor": 0,
  "metadata": {
    "colab": {
      "provenance": [],
      "include_colab_link": true
    },
    "kernelspec": {
      "name": "python3",
      "display_name": "Python 3"
    },
    "language_info": {
      "name": "python"
    }
  },
  "cells": [
    {
      "cell_type": "markdown",
      "metadata": {
        "id": "view-in-github",
        "colab_type": "text"
      },
      "source": [
        "<a href=\"https://colab.research.google.com/github/matheusgpantoja/LPO/blob/main/GNOME_SORT.ipynb\" target=\"_parent\"><img src=\"https://colab.research.google.com/assets/colab-badge.svg\" alt=\"Open In Colab\"/></a>"
      ]
    },
    {
      "cell_type": "markdown",
      "source": [
        "Matheus Gabriel Gomes Pantoja\n",
        "\n",
        "\n",
        "Richard Douglas Da Piedade Soares\n"
      ],
      "metadata": {
        "id": "PezRaII-f-X6"
      }
    },
    {
      "cell_type": "code",
      "source": [
        "import numpy  as np\n",
        "import time\n",
        "import random"
      ],
      "metadata": {
        "id": "ZZxl391wTRjJ"
      },
      "execution_count": null,
      "outputs": []
    },
    {
      "cell_type": "markdown",
      "source": [],
      "metadata": {
        "id": "JWKS3X6-pKpL"
      }
    },
    {
      "cell_type": "markdown",
      "source": [
        "## Apresentaçao"
      ],
      "metadata": {
        "id": "fpb9TEZm0mRK"
      }
    },
    {
      "cell_type": "code",
      "source": [
        "def gnome_sort(array):\n",
        "    for position in range(1, len(array)):\n",
        "        while position != 0 and array[position] < array[position - 1]:\n",
        "            array[position], array[position - 1] = array[position - 1], array[position]\n",
        "            position = position - 1\n",
        "\n",
        "    return array"
      ],
      "metadata": {
        "id": "ImnhCin5RXTh"
      },
      "execution_count": null,
      "outputs": []
    },
    {
      "cell_type": "code",
      "source": [
        "%%time\n",
        "gnome_sort([12,9,10,-2])"
      ],
      "metadata": {
        "id": "-eZvB97rYE_3"
      },
      "execution_count": null,
      "outputs": []
    },
    {
      "cell_type": "code",
      "source": [
        "# Gera m números aleatórios inteiros na lista\n",
        "n = 10000\n",
        "\n",
        "# lista aleatorio\n",
        "lista_aleatoria = [random.randint(-10e2, 10e2) for i in range(n)]\n",
        "print(f'Lista aleatórioa: {lista_aleatoria}')\n"
      ],
      "metadata": {
        "id": "qvx9yFOQ0pol"
      },
      "execution_count": null,
      "outputs": []
    },
    {
      "cell_type": "code",
      "source": [
        "%%time\n",
        "gnome_sort(lista_aleatoria)"
      ],
      "metadata": {
        "id": "ivt0bMMpmykV"
      },
      "execution_count": null,
      "outputs": []
    },
    {
      "cell_type": "markdown",
      "source": [
        "## Testes"
      ],
      "metadata": {
        "id": "NA9dGV6U0iYU"
      }
    },
    {
      "cell_type": "code",
      "source": [
        "def gnome_sort(array):\n",
        "    comparisons = 0\n",
        "    swaps = 0\n",
        "\n",
        "    for position in range(1, len(array)):\n",
        "        while position != 0 and array[position] < array[position - 1]:\n",
        "            array[position], array[position - 1] = array[position - 1], array[position]\n",
        "            position = position - 1\n",
        "            swaps += 1\n",
        "            comparisons += 1\n",
        "\n",
        "        comparisons += 1\n",
        "\n",
        "    # print(\"Número de comparações:\", comparisons)\n",
        "    # print(\"Número de trocas:\", swaps)\n",
        "\n",
        "    return array,comparisons,swaps"
      ],
      "metadata": {
        "id": "WoGj579ruyox"
      },
      "execution_count": null,
      "outputs": []
    },
    {
      "cell_type": "markdown",
      "source": [
        "### Vetor de 10 posições"
      ],
      "metadata": {
        "id": "x4_P7MjO1Eq5"
      }
    },
    {
      "cell_type": "code",
      "source": [
        "import random\n",
        "\n",
        "# Gera 10 números aleatórios inteiros e coloca na lista\n",
        "n = 10\n",
        "\n",
        "# lista aleatorio\n",
        "lista_aleatoria = [random.randint(-10e5, 10e5) for i in range(n)]\n",
        "print(f'Lista aleatórioa: {lista_aleatoria}')\n",
        "\n",
        "#lista crescente\n",
        "# lista_crescente = int(random.sample(range(-1000, 10e5), n))\n",
        "lista_crescente = [random.randint(-10e5, 10e5) for i in range(n)]\n",
        "lista_crescente.sort()\n",
        "print(f'\\nLista crescente: {lista_crescente}')\n",
        "\n",
        "#lista decrescente\n",
        "# lista_decrescente = random.sample(range(-1000, 10e5), n)\n",
        "lista_decrescente = [random.randint(-10e5, 10e5) for i in range(n)]\n",
        "lista_decrescente.sort(reverse=True)\n",
        "print(f'\\nLista decrescente: {lista_decrescente}')\n"
      ],
      "metadata": {
        "id": "bzLYiYgvggwi"
      },
      "execution_count": null,
      "outputs": []
    },
    {
      "cell_type": "markdown",
      "source": [
        "#### Aleatoria"
      ],
      "metadata": {
        "id": "avcsvQ7cJ4aO"
      }
    },
    {
      "cell_type": "code",
      "source": [
        "%%time\n",
        "gnome_sort(lista_aleatoria)"
      ],
      "metadata": {
        "id": "4FP4UNVxvDBg"
      },
      "execution_count": null,
      "outputs": []
    },
    {
      "cell_type": "markdown",
      "source": [
        "#### Crescente"
      ],
      "metadata": {
        "id": "8OJG2-2TJ2Wd"
      }
    },
    {
      "cell_type": "code",
      "source": [
        "%%time\n",
        "gnome_sort(lista_crescente)"
      ],
      "metadata": {
        "id": "g4wcE_zdzGtS"
      },
      "execution_count": null,
      "outputs": []
    },
    {
      "cell_type": "markdown",
      "source": [
        "\n",
        "#### Decrescente"
      ],
      "metadata": {
        "id": "4iEYEq_AJxCC"
      }
    },
    {
      "cell_type": "code",
      "source": [
        "%%time\n",
        "gnome_sort(lista_decrescente)"
      ],
      "metadata": {
        "id": "d-He0rZxzwdj"
      },
      "execution_count": null,
      "outputs": []
    },
    {
      "cell_type": "markdown",
      "source": [
        "### Vetor de 1000 posições"
      ],
      "metadata": {
        "id": "L8KuGCu21KID"
      }
    },
    {
      "cell_type": "code",
      "source": [
        "import random\n",
        "\n",
        "# Gera 10 números aleatórios inteiros e coloca na lista\n",
        "n = 1000\n",
        "\n",
        "# lista aleatorio\n",
        "lista_aleatoria = [random.randint(-10e2, 10e2) for i in range(n)]\n",
        "print(f'Lista aleatórioa: {lista_aleatoria}')\n",
        "\n",
        "#lista crescente\n",
        "# lista_crescente = int(random.sample(range(-1000, 10e5), n))\n",
        "lista_crescente = [random.randint(-10e2, 10e2) for i in range(n)]\n",
        "lista_crescente.sort()\n",
        "print(f'\\nLista crescente: {lista_crescente}')\n",
        "\n",
        "#lista decrescente\n",
        "# lista_decrescente = random.sample(range(-1000, 10e5), n)\n",
        "lista_decrescente = [random.randint(-10e2, 10e2) for i in range(n)]\n",
        "lista_decrescente.sort(reverse=True)\n",
        "print(f'\\nLista decrescente: {lista_decrescente}')\n"
      ],
      "metadata": {
        "id": "KPlkoHHiSmUc"
      },
      "execution_count": null,
      "outputs": []
    },
    {
      "cell_type": "markdown",
      "source": [
        "#### Aleatoria"
      ],
      "metadata": {
        "id": "UlkpQXW_RSdw"
      }
    },
    {
      "cell_type": "code",
      "source": [
        "%%time\n",
        "gnome_sort(lista_aleatoria)"
      ],
      "metadata": {
        "id": "hbxAAzLJRRwJ"
      },
      "execution_count": null,
      "outputs": []
    },
    {
      "cell_type": "markdown",
      "source": [
        "#### Crescente"
      ],
      "metadata": {
        "id": "W2HHWUfDRY6Z"
      }
    },
    {
      "cell_type": "code",
      "source": [
        "%%time\n",
        "gnome_sort(lista_crescente)"
      ],
      "metadata": {
        "id": "afUorG-5RgQe"
      },
      "execution_count": null,
      "outputs": []
    },
    {
      "cell_type": "markdown",
      "source": [
        "#### Decrescente"
      ],
      "metadata": {
        "id": "hcCNVLgNRdGM"
      }
    },
    {
      "cell_type": "code",
      "source": [
        "%%time\n",
        "gnome_sort(lista_decrescente)"
      ],
      "metadata": {
        "id": "ztXsmkywRhDy"
      },
      "execution_count": null,
      "outputs": []
    },
    {
      "cell_type": "markdown",
      "source": [
        "### 10.000 posições"
      ],
      "metadata": {
        "id": "XPuQwAyDZypM"
      }
    },
    {
      "cell_type": "code",
      "source": [
        "def gnome_sort(array):\n",
        "    comparisons = 0\n",
        "    swaps = 0\n",
        "\n",
        "    for position in range(1, len(array)):\n",
        "        while position != 0 and array[position] < array[position - 1]:\n",
        "            array[position], array[position - 1] = array[position - 1], array[position]\n",
        "            position = position - 1\n",
        "            swaps += 1\n",
        "            comparisons += 1\n",
        "\n",
        "        comparisons += 1\n",
        "\n",
        "    # print(\"Número de comparações:\", comparisons)\n",
        "    # print(\"Número de trocas:\", swaps)\n",
        "\n",
        "    return comparisons,swaps"
      ],
      "metadata": {
        "id": "xWrJBMIJZ1KI"
      },
      "execution_count": null,
      "outputs": []
    },
    {
      "cell_type": "code",
      "source": [
        "import random\n",
        "\n",
        "# Gera 10 números aleatórios inteiros e coloca na lista\n",
        "n = 10000\n",
        "\n",
        "# lista aleatorio\n",
        "lista_aleatoria = [random.randint(-10e2, 10e2) for i in range(n)]\n",
        "print(f'Lista aleatórioa: {lista_aleatoria}')\n",
        "\n",
        "#lista crescente\n",
        "# lista_crescente = int(random.sample(range(-1000, 10e5), n))\n",
        "lista_crescente = [random.randint(-10e2, 10e2) for i in range(n)]\n",
        "lista_crescente.sort()\n",
        "print(f'\\nLista crescente: {lista_crescente}')\n",
        "\n",
        "#lista decrescente\n",
        "# lista_decrescente = random.sample(range(-1000, 10e5), n)\n",
        "lista_decrescente = [random.randint(-10e2, 10e2) for i in range(n)]\n",
        "lista_decrescente.sort(reverse=True)\n",
        "print(f'\\nLista decrescente: {lista_decrescente}')\n"
      ],
      "metadata": {
        "id": "YjSX-wpAaE2h"
      },
      "execution_count": null,
      "outputs": []
    },
    {
      "cell_type": "markdown",
      "source": [
        "#### Aleatorio"
      ],
      "metadata": {
        "id": "nzy1cJ__Z4Bm"
      }
    },
    {
      "cell_type": "code",
      "source": [
        "%%time\n",
        "gnome_sort(lista_aleatoria)"
      ],
      "metadata": {
        "id": "RD5w2OwoaJDb"
      },
      "execution_count": null,
      "outputs": []
    },
    {
      "cell_type": "markdown",
      "source": [
        "#### Crescente"
      ],
      "metadata": {
        "id": "wdwlvhEPZ-8P"
      }
    },
    {
      "cell_type": "code",
      "source": [
        "%%time\n",
        "gnome_sort(lista_crescente)"
      ],
      "metadata": {
        "id": "WYIcKmMMaMC3"
      },
      "execution_count": null,
      "outputs": []
    },
    {
      "cell_type": "markdown",
      "source": [
        "#### Decrescente"
      ],
      "metadata": {
        "id": "lqV8TSqiaATT"
      }
    },
    {
      "cell_type": "code",
      "source": [
        "%%time\n",
        "gnome_sort(lista_decrescente)"
      ],
      "metadata": {
        "id": "-A53S4N6Z-ST"
      },
      "execution_count": null,
      "outputs": []
    },
    {
      "cell_type": "code",
      "source": [
        "def gnome_sort(array):\n",
        "    comparisons = 0\n",
        "    swaps = 0\n",
        "\n",
        "    for position in range(1, len(array)):\n",
        "        while position != 0 and array[position] < array[position - 1]:\n",
        "            print(f'posição atual:{position} dentro')\n",
        "            array[position], array[position - 1] = array[position - 1], array[position]\n",
        "            position = position - 1\n",
        "            swaps += 1\n",
        "            comparisons += 1\n",
        "            print(array[position])\n",
        "            print(f'comp atual:{comparisons}')\n",
        "            print(f'swqp atual:{swaps}\\n')\n",
        "\n",
        "        comparisons += 1\n",
        "        print(f'posição atual:{position} fora')\n",
        "        print(f'comp atual:{comparisons}')\n",
        "        print(f'swqp atual:{swaps}\\n')\n",
        "    # print(\"Número de comparações:\", comparisons)\n",
        "    # print(\"Número de trocas:\", swaps)\n",
        "\n",
        "    return array,comparisons,swaps"
      ],
      "metadata": {
        "id": "knLiuBK5maW1"
      },
      "execution_count": null,
      "outputs": []
    }
  ]
}